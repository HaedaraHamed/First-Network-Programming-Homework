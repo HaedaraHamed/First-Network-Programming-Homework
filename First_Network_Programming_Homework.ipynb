{
  "nbformat": 4,
  "nbformat_minor": 0,
  "metadata": {
    "colab": {
      "provenance": [],
      "gpuType": "T4",
      "authorship_tag": "ABX9TyM62b8BN4Mbxr8cUfalYRM8",
      "include_colab_link": true
    },
    "kernelspec": {
      "name": "python3",
      "display_name": "Python 3"
    },
    "language_info": {
      "name": "python"
    },
    "accelerator": "GPU"
  },
  "cells": [
    {
      "cell_type": "markdown",
      "metadata": {
        "id": "view-in-github",
        "colab_type": "text"
      },
      "source": [
        "<a href=\"https://colab.research.google.com/github/HaedaraHamed/First-Network-Programming-Homework/blob/main/First_Network_Programming_Homework.ipynb\" target=\"_parent\"><img src=\"https://colab.research.google.com/assets/colab-badge.svg\" alt=\"Open In Colab\"/></a>"
      ]
    },
    {
      "cell_type": "markdown",
      "source": [
        "Question 1: Python Basics?\n",
        "A-If you have two lists\n",
        "L1=[‘HTTP’,’HTTPS’,’FTP’,’DNS’]\n",
        "L2=[80,443,21,53]\n",
        " convert it to generate this dictionary d={‘HTTP’:80,’HTTPS’:443,’FTP’:21,’DNS’:53 }"
      ],
      "metadata": {
        "id": "M8gyznDi9BFY"
      }
    },
    {
      "cell_type": "code",
      "execution_count": null,
      "metadata": {
        "id": "9TA2YZVi9gUO",
        "colab": {
          "base_uri": "https://localhost:8080/"
        },
        "outputId": "aa8380b3-2ca5-4d60-ace9-88def4894246"
      },
      "outputs": [
        {
          "output_type": "stream",
          "name": "stdout",
          "text": [
            "{'HTTP': 80, 'HTTPS': 443, 'FTP': 21, 'DNS': 53}\n"
          ]
        }
      ],
      "source": [
        "\n",
        "L1 = ['HTTP', 'HTTPS', 'FTP', 'DNS']\n",
        "L2 = [80, 443, 21, 53]\n",
        "d= dict(zip(L1, L2))\n",
        "\n",
        "print(d)\n"
      ]
    },
    {
      "cell_type": "markdown",
      "source": [
        "Question1: B- Write a Python program that calculates the factorial of a given number entered by user."
      ],
      "metadata": {
        "id": "BmztbBhC8p9e"
      }
    },
    {
      "cell_type": "code",
      "source": [
        "x = int(input(\"Enter your number: \"))\n",
        "y = 1\n",
        "\n",
        "if x < 0:\n",
        "    print(\"Sorry!!\")\n",
        "elif x == 0:\n",
        "    print(\"1\")\n",
        "else:\n",
        "    for i in range(1, x + 1):\n",
        "        y *= i\n",
        "\n",
        "    print(f\" {x}! = {y}\")\n",
        "\n"
      ],
      "metadata": {
        "colab": {
          "base_uri": "https://localhost:8080/"
        },
        "id": "hsQblBFQFu2T",
        "outputId": "53abe6be-3cac-4a1d-ea81-6512d4185e62"
      },
      "execution_count": null,
      "outputs": [
        {
          "output_type": "stream",
          "name": "stdout",
          "text": [
            "Enter your number: 3\n",
            " 3! = 6\n"
          ]
        }
      ]
    },
    {
      "cell_type": "markdown",
      "source": [
        "Question 1: C- L=[‘Network’ , ’Bio’ , ’Programming’, ‘Physics’ , ‘Music’]         In this exercise, you will implement a Python program that reads the items of the previous list and identifies          the items that starts with ‘B’ letter, then print it on screen.      Tips: using loop, ‘len ()’ , startswith() methods."
      ],
      "metadata": {
        "id": "dH1Zna-oAsUg"
      }
    },
    {
      "cell_type": "code",
      "source": [
        "L = ['Network', 'Bio', 'Programming', 'Physics', 'Music']\n",
        "L1 = []\n",
        "for i in L:\n",
        "    if i.startswith('B'):\n",
        "        L1.append(i)\n",
        "print(\"Items starting with B:\", L1)"
      ],
      "metadata": {
        "colab": {
          "base_uri": "https://localhost:8080/"
        },
        "id": "Ff3waWM0B7qL",
        "outputId": "84623c9b-55f1-4aba-caf0-bb6febbb6cef"
      },
      "execution_count": null,
      "outputs": [
        {
          "output_type": "stream",
          "name": "stdout",
          "text": [
            "Items starting with B: ['Bio']\n"
          ]
        }
      ]
    },
    {
      "cell_type": "markdown",
      "source": [
        "Question 1:D- Using Dictionary comprehension, Generate this dictionary d={0:1,1:2,2:3,3:4,4:5,5:6,6:7,7:8,8:9,9:10,10:11}"
      ],
      "metadata": {
        "id": "XMNvStHuDDtF"
      }
    },
    {
      "cell_type": "code",
      "source": [
        "d = {i: i + 1 for i in range(11)}\n",
        "print(d)\n"
      ],
      "metadata": {
        "colab": {
          "base_uri": "https://localhost:8080/"
        },
        "id": "DbQJkhOsDxxY",
        "outputId": "d70f4d7f-c35c-4fcc-ea8c-6f625ed6dd1c"
      },
      "execution_count": null,
      "outputs": [
        {
          "output_type": "stream",
          "name": "stdout",
          "text": [
            "{0: 1, 1: 2, 2: 3, 3: 4, 4: 5, 5: 6, 6: 7, 7: 8, 8: 9, 9: 10, 10: 11}\n"
          ]
        }
      ]
    },
    {
      "cell_type": "markdown",
      "source": [
        "Question 2:\n",
        "Convert from Binary to Decimal\n",
        "  Write a Python program that converts a Binary number into its equivalent Decimal number. The program should start reading the binary number from the user. Then the decimal equivalent number must be calculated. Finally, the program must display the equivalent decimal number on the screen. Tips: solve input **errors**"
      ],
      "metadata": {
        "id": "gMqufUd2EgRG"
      }
    },
    {
      "cell_type": "code",
      "source": [
        "x = input(\"Enter your binary number: \")\n",
        "try:\n",
        "    y = int(x, 2)\n",
        "    print(f\"{x} = {y}\")\n",
        "except ValueError:\n",
        "    print(\"Please enter a valid binary number.\")\n"
      ],
      "metadata": {
        "id": "DOahkyPmx7LM"
      },
      "execution_count": null,
      "outputs": []
    },
    {
      "cell_type": "markdown",
      "source": [
        "Question 3: Working with Files” Quiz Program”\n",
        "  Type python quiz program that takes a text or json or csv file as input for (20 (Questions, Answers)). It asks the questions and finally computes and prints user results and store user name and result in separate file csv or json file"
      ],
      "metadata": {
        "id": "IY1ZY677HkZg"
      }
    },
    {
      "cell_type": "code",
      "source": [
        "import csv\n",
        "\n",
        "\n",
        "questions_and_answers = [\n",
        "    (\"ماهي عاصمة سورية\",\"دمشق\"),\n",
        "    (\"ماهي عاصمة العراق\", \"بغداد\"),\n",
        "    (\" ما هي عاصمة لبنان\", \"بيروت\"),\n",
        "    (\"ما هي عاصمة فلسطين\",\"القدس\"),\n",
        "    (\"ما هي عاصمة الجزائر\",\"الجزائر\"),\n",
        "    (\"ما هي عاصمة مصر\",\"القاهرة\"),\n",
        "    (\"ما هي عاصمة اليمن\",\"صنعاء\"),\n",
        "    (\"ما هي عاصمة البحرين\",\"المنامة\"),\n",
        "    (\"ما هي عاصمة الكويت\",\"الكويت\"),\n",
        "    (\"ما هي عاصمةليبيا\",\"طرابلس الغربية\"),\n",
        "    (\"ما هي عاصمة السعودية\",\"الرياض\"),\n",
        "    (\"ما هي عاصمة تونس\",\"تونس\"),\n",
        "    (\"كم عدد المحافظات السورية\",14),\n",
        "    (\"كم عدد الجامعات الحكومية في سورية\",6),\n",
        "    (\"ماهي عاصمة ايطاليا\",\"روما\"),\n",
        "    (\"ما هي عاصمة المانيا\",\"برلين\"),\n",
        "    (\"ما هي عاصمة فرنسا\",\"باريس\"),\n",
        "    (\"ما هي عاصمة الصين\",\"بكين\"),\n",
        "    (\"ما هي عاصمة روسيا\",\"موسكو\"),\n",
        "    (\"كم عدد الدول العربية\",22),\n",
        "]\n",
        "\n",
        "csv_file_path = \"quiz.csv\"\n",
        "with open(csv_file_path, mode=\"w\", newline=\"\") as file:\n",
        "    writer = csv.writer(file)\n",
        "    writer.writerows(questions_and_answers)\n",
        "\n",
        "print(f\"CSV file '{csv_file_path}' created successfully.\")\n"
      ],
      "metadata": {
        "colab": {
          "base_uri": "https://localhost:8080/"
        },
        "id": "zozBmrKf3ySX",
        "outputId": "c4362abd-97f4-437b-e6e4-e8242c62e366"
      },
      "execution_count": null,
      "outputs": [
        {
          "output_type": "stream",
          "name": "stdout",
          "text": [
            "CSV file 'quiz.csv' created successfully.\n"
          ]
        }
      ]
    },
    {
      "cell_type": "code",
      "source": [
        "import csv\n",
        "import random\n",
        "\n",
        "def load_quiz_data(quiz):\n",
        "\n",
        "    with open(quiz, \"r\") as quiz_file:\n",
        "        reader = csv.reader(quiz_file)\n",
        "        quiz_data = list(reader)\n",
        "    return quiz_data\n",
        "\n",
        "def ask_questions(quiz_data):\n",
        "\n",
        "    score = 0\n",
        "    questions_right = 0\n",
        "    question_no = 1\n",
        "\n",
        "    random.shuffle(quiz_data)\n",
        "    for data in quiz_data:\n",
        "        question, correct_answer = data\n",
        "        print(f\"Question #{question_no}: {question}\")\n",
        "        user_answer = input(\"What is your answer? \")\n",
        "\n",
        "        if user_answer.lower() == correct_answer.lower():\n",
        "            print(\"Correct.\")\n",
        "            score += 1\n",
        "            questions_right += 1\n",
        "        else:\n",
        "            print(\"Incorrect.\")\n",
        "\n",
        "        question_no += 1\n",
        "\n",
        "    total_score = (score / len(quiz_data)) * 100\n",
        "    return questions_right, total_score\n",
        "def main():\n",
        "    file_name = input(\" enter the name of the quiz file (CSV format): \")\n",
        "    quiz_data = load_quiz_data(file_name)\n",
        "    user_name = input(\" enter your name: \")\n",
        "    questions_right, total_score = ask_questions(quiz_data)\n",
        "    print(f\"You got {questions_right} questions right= {total_score:.2f}%.\")\n",
        "\n",
        "    with open(user_name, \"w\", newline=\"\") as result_file:\n",
        "        writer = csv.writer(result_file)\n",
        "        writer.writerow([\"Name\", \"Questions Right\", \"Score\"])\n",
        "        writer.writerow([user_name, questions_right, total_score])\n",
        "\n",
        "if __name__ == \"__main__\":\n",
        "    main()\n"
      ],
      "metadata": {
        "colab": {
          "base_uri": "https://localhost:8080/"
        },
        "id": "e06e8T3B46uW",
        "outputId": "49b300b6-380c-4ee7-d0cb-6dcdc38ee725"
      },
      "execution_count": null,
      "outputs": [
        {
          "output_type": "stream",
          "name": "stdout",
          "text": [
            " enter the name of the quiz file (CSV format): quiz.csv\n",
            " enter your name: haedara\n",
            "Question #1: ما هي عاصمة الصين\n",
            "What is your answer? بكين\n",
            "Correct.\n",
            "Question #2: ما هي عاصمةليبيا\n",
            "What is your answer? ليبيا\n",
            "Incorrect.\n",
            "Question #3: ما هي عاصمة فلسطين\n",
            "What is your answer? القدس\n",
            "Correct.\n",
            "Question #4: ما هي عاصمة الكويت\n",
            "What is your answer? الكويت\n",
            "Correct.\n",
            "Question #5: كم عدد الجامعات الحكومية في سورية\n",
            "What is your answer? 6\n",
            "Correct.\n",
            "Question #6: ما هي عاصمة تونس\n",
            "What is your answer? تونس\n",
            "Correct.\n",
            "Question #7: ما هي عاصمة الجزائر\n",
            "What is your answer? الجزائر\n",
            "Correct.\n",
            "Question #8: ما هي عاصمة السعودية\n",
            "What is your answer? الرياض\n",
            "Correct.\n",
            "Question #9: ماهي عاصمة سورية\n",
            "What is your answer? دمشق\n",
            "Correct.\n",
            "Question #10: ما هي عاصمة مصر\n",
            "What is your answer? القاهرة\n",
            "Correct.\n",
            "Question #11: ما هي عاصمة البحرين\n",
            "What is your answer? المنامة\n",
            "Correct.\n",
            "Question #12: ما هي عاصمة المانيا\n",
            "What is your answer? برلين\n",
            "Correct.\n",
            "Question #13:  ما هي عاصمة لبنان\n",
            "What is your answer? بيروت\n",
            "Correct.\n",
            "Question #14: كم عدد المحافظات السورية\n",
            "What is your answer? 14\n",
            "Correct.\n",
            "Question #15: ماهي عاصمة ايطاليا\n",
            "What is your answer? روما\n",
            "Correct.\n",
            "Question #16: ماهي عاصمة العراق\n",
            "What is your answer? بغداد\n",
            "Correct.\n",
            "Question #17: كم عدد الدول العربية\n",
            "What is your answer? 22\n",
            "Correct.\n",
            "Question #18: ما هي عاصمة روسيا\n",
            "What is your answer? موسكو\n",
            "Correct.\n",
            "Question #19: ما هي عاصمة فرنسا\n",
            "What is your answer? باريس\n",
            "Correct.\n",
            "Question #20: ما هي عاصمة اليمن\n",
            "What is your answer? صنعاء\n",
            "Correct.\n",
            "You got 19 questions right= 95.00%.\n"
          ]
        }
      ]
    },
    {
      "cell_type": "markdown",
      "source": [
        "Question 4: Object-Oriented Programming - Bank Class\n",
        "Define a class BankAccount with the following attributes and methods: Attributes: account_number (string), account_holder (string), balance (float, initialized to 0.0) Methods:deposit(amount), withdraw(amount) , get_balance() - Create an instance of BankAccount, - Perform a deposit of $1000, - Perform a withdrawal of $500. - Print the current balance after each operation. - Define a subclass SavingsAccount that inherits from BankAccount and adds interest_rate Attribute and  apply_interest() method that Applies interest to the balance based on the interest rate. And Override print() method to print the current balance and rate. - Create an instance of SavingsAccount , and call apply_interest() and print() functions"
      ],
      "metadata": {
        "id": "_Dv47nSKcXUY"
      }
    },
    {
      "cell_type": "code",
      "source": [
        "class BankAccount:\n",
        "    def __init__(self, account_number, account_holder):\n",
        "        self.account_number = account_number\n",
        "        self.account_holder = account_holder\n",
        "        self.balance = 0.0\n",
        "\n",
        "    def deposit(self, amount):\n",
        "        self.balance += amount\n",
        "        print(f\"Amount Deposited: ${amount:.2f}\")\n",
        "\n",
        "    def withdraw(self, amount):\n",
        "        if self.balance >= amount:\n",
        "            self.balance -= amount\n",
        "            print(f\"You Withdrew: ${amount:.2f}\")\n",
        "        else:\n",
        "            print(\"Insufficient balance\")\n",
        "\n",
        "    def get_balance(self):\n",
        "        return self.balance\n",
        "\n",
        "class SavingsAccount(BankAccount):\n",
        "    def __init__(self, account_number, account_holder, interest_rate):\n",
        "        super().__init__(account_number, account_holder)\n",
        "        self.interest_rate = interest_rate\n",
        "\n",
        "    def apply_interest(self):\n",
        "        interest_amount = self.balance * (self.interest_rate / 100)\n",
        "        self.balance += interest_amount\n",
        "\n",
        "    def print(self):\n",
        "        print(f\"Current Balance: ${self.balance:.2f}\")\n",
        "        print(f\"Interest Rate: {self.interest_rate}%\")\n",
        "\n",
        "bank_account = BankAccount(account_number=\"123456\", account_holder=\"haedara\")\n",
        "bank_account.deposit(1000)\n",
        "bank_account.withdraw(500)\n",
        "print(f\"Current Balance: ${bank_account.get_balance():.2f}\")\n",
        "\n",
        "savings_account = SavingsAccount(account_number=\"789012\", account_holder=\"noor\", interest_rate=2.5)\n",
        "savings_account.deposit(2000)\n",
        "savings_account.apply_interest()\n",
        "savings_account.print()\n"
      ],
      "metadata": {
        "colab": {
          "base_uri": "https://localhost:8080/"
        },
        "id": "0UzIqByFabon",
        "outputId": "80cdc8f7-8732-418f-f25c-592b464ebeab"
      },
      "execution_count": null,
      "outputs": [
        {
          "output_type": "stream",
          "name": "stdout",
          "text": [
            "Amount Deposited: $1000.00\n",
            "You Withdrew: $500.00\n",
            "Current Balance: $500.00\n",
            "Amount Deposited: $2000.00\n",
            "Current Balance: $2050.00\n",
            "Interest Rate: 2.5%\n"
          ]
        }
      ]
    }
  ]
}